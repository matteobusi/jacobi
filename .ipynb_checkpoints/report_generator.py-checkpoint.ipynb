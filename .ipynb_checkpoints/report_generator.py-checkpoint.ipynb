{
 "cells": [
  {
   "cell_type": "code",
   "execution_count": 1,
   "metadata": {
    "collapsed": true
   },
   "outputs": [],
   "source": [
    "import matplotlib.pyplot as plt\n",
    "import numpy as np\n",
    "import seaborn as sns\n",
    "import pandas as pd\n",
    "%matplotlib inline"
   ]
  },
  {
   "cell_type": "code",
   "execution_count": 2,
   "metadata": {
    "collapsed": true
   },
   "outputs": [],
   "source": [
    "sns.set()"
   ]
  },
  {
   "cell_type": "code",
   "execution_count": 43,
   "metadata": {},
   "outputs": [
    {
     "ename": "AttributeError",
     "evalue": "'DataFrame' object has no attribute 'concat'",
     "output_type": "error",
     "traceback": [
      "\u001b[0;31m---------------------------------------------------------------------------\u001b[0m",
      "\u001b[0;31mAttributeError\u001b[0m                            Traceback (most recent call last)",
      "\u001b[0;32m<ipython-input-43-38c283828ff5>\u001b[0m in \u001b[0;36m<module>\u001b[0;34m()\u001b[0m\n\u001b[1;32m     26\u001b[0m     \u001b[0mdf_pt\u001b[0m\u001b[0;34m[\u001b[0m\u001b[0;34m'eff'\u001b[0m\u001b[0;34m]\u001b[0m \u001b[0;34m=\u001b[0m \u001b[0mdf_pt\u001b[0m\u001b[0;34m.\u001b[0m\u001b[0mapply\u001b[0m\u001b[0;34m(\u001b[0m\u001b[0;32mlambda\u001b[0m \u001b[0mrow\u001b[0m\u001b[0;34m:\u001b[0m \u001b[0mrow\u001b[0m\u001b[0;34m[\u001b[0m\u001b[0;34m's'\u001b[0m\u001b[0;34m]\u001b[0m\u001b[0;34m/\u001b[0m\u001b[0mrow\u001b[0m\u001b[0;34m[\u001b[0m\u001b[0;34m'nw'\u001b[0m\u001b[0;34m]\u001b[0m\u001b[0;34m,\u001b[0m \u001b[0maxis\u001b[0m\u001b[0;34m=\u001b[0m\u001b[0;36m1\u001b[0m\u001b[0;34m)\u001b[0m\u001b[0;34m\u001b[0m\u001b[0m\n\u001b[1;32m     27\u001b[0m \u001b[0;34m\u001b[0m\u001b[0m\n\u001b[0;32m---> 28\u001b[0;31m     \u001b[0mcompl_seq\u001b[0m \u001b[0;34m=\u001b[0m \u001b[0mcompl_seq\u001b[0m\u001b[0;34m.\u001b[0m\u001b[0mconcat\u001b[0m\u001b[0;34m(\u001b[0m\u001b[0mdf_seq\u001b[0m\u001b[0;34m)\u001b[0m\u001b[0;34m\u001b[0m\u001b[0m\n\u001b[0m\u001b[1;32m     29\u001b[0m     \u001b[0mcompl_ff\u001b[0m \u001b[0;34m=\u001b[0m \u001b[0mcompl_ff\u001b[0m\u001b[0;34m.\u001b[0m\u001b[0mconcat\u001b[0m\u001b[0;34m(\u001b[0m\u001b[0mdf_ff\u001b[0m\u001b[0;34m)\u001b[0m\u001b[0;34m\u001b[0m\u001b[0m\n\u001b[1;32m     30\u001b[0m     \u001b[0mcompl_pt\u001b[0m \u001b[0;34m=\u001b[0m \u001b[0mcompl_pt\u001b[0m\u001b[0;34m.\u001b[0m\u001b[0mconcat\u001b[0m\u001b[0;34m(\u001b[0m\u001b[0mdf_pt\u001b[0m\u001b[0;34m)\u001b[0m\u001b[0;34m\u001b[0m\u001b[0m\n",
      "\u001b[0;32m/usr/lib/python3.6/site-packages/pandas/core/generic.py\u001b[0m in \u001b[0;36m__getattr__\u001b[0;34m(self, name)\u001b[0m\n\u001b[1;32m   2742\u001b[0m             \u001b[0;32mif\u001b[0m \u001b[0mname\u001b[0m \u001b[0;32min\u001b[0m \u001b[0mself\u001b[0m\u001b[0;34m.\u001b[0m\u001b[0m_info_axis\u001b[0m\u001b[0;34m:\u001b[0m\u001b[0;34m\u001b[0m\u001b[0m\n\u001b[1;32m   2743\u001b[0m                 \u001b[0;32mreturn\u001b[0m \u001b[0mself\u001b[0m\u001b[0;34m[\u001b[0m\u001b[0mname\u001b[0m\u001b[0;34m]\u001b[0m\u001b[0;34m\u001b[0m\u001b[0m\n\u001b[0;32m-> 2744\u001b[0;31m             \u001b[0;32mreturn\u001b[0m \u001b[0mobject\u001b[0m\u001b[0;34m.\u001b[0m\u001b[0m__getattribute__\u001b[0m\u001b[0;34m(\u001b[0m\u001b[0mself\u001b[0m\u001b[0;34m,\u001b[0m \u001b[0mname\u001b[0m\u001b[0;34m)\u001b[0m\u001b[0;34m\u001b[0m\u001b[0m\n\u001b[0m\u001b[1;32m   2745\u001b[0m \u001b[0;34m\u001b[0m\u001b[0m\n\u001b[1;32m   2746\u001b[0m     \u001b[0;32mdef\u001b[0m \u001b[0m__setattr__\u001b[0m\u001b[0;34m(\u001b[0m\u001b[0mself\u001b[0m\u001b[0;34m,\u001b[0m \u001b[0mname\u001b[0m\u001b[0;34m,\u001b[0m \u001b[0mvalue\u001b[0m\u001b[0;34m)\u001b[0m\u001b[0;34m:\u001b[0m\u001b[0;34m\u001b[0m\u001b[0m\n",
      "\u001b[0;31mAttributeError\u001b[0m: 'DataFrame' object has no attribute 'concat'"
     ]
    }
   ],
   "source": [
    "results = []\n",
    "\n",
    "compl_seq = pd.DataFrame()\n",
    "compl_ff = pd.DataFrame()\n",
    "compl_pt = pd.DataFrame()\n",
    "\n",
    "for i in [1000, 5000, 10000, 20000]:\n",
    "    df_seq = pd.read_csv(\"results/res_seq_\" + str(i) + \".csv\", delimiter=' *, *', engine='python')\n",
    "    df_ff = pd.read_csv(\"results/res_ff_\" + str(i) +\".csv\", delimiter=' *, *', engine='python')\n",
    "    df_pt = pd.read_csv(\"results/res_pt_\" + str(i) + \".csv\", delimiter=' *, *', engine='python' )\n",
    "\n",
    "    seq_time = df_seq['time'][0]\n",
    "    ff_time_0 = df_ff.loc[df_ff['nw'] == 1]['time'][0]\n",
    "    pt_time_0 = df_pt.loc[df_pt['nw'] == 1]['time'][0]\n",
    "    \n",
    "    df_seq['N'] = df_seq.apply(lambda row: i)\n",
    "    \n",
    "    df_ff['N'] = df_ff.apply(lambda row: i)\n",
    "    df_ff['s'] = df_ff.apply(lambda row: seq_time/row['time'], axis=1)\n",
    "    df_ff['scalab'] = df_ff.apply(lambda row: ff_time_0/row['time'], axis=1)\n",
    "    df_ff['eff'] = df_ff.apply(lambda row: row['s']/row['nw'], axis=1)\n",
    "    \n",
    "    df_pt['N'] = df_pt.apply(lambda row: i)\n",
    "    df_pt['s'] = df_pt.apply(lambda row: seq_time/row['time'], axis=1)\n",
    "    df_pt['scalab'] = df_pt.apply(lambda row: pt_time_0/row['time'], axis=1)\n",
    "    df_pt['eff'] = df_pt.apply(lambda row: row['s']/row['nw'], axis=1)\n",
    "\n",
    "    compl_seq = compl_seq.append(df_seq, ignore_index=True)\n",
    "    compl_ff = compl_ff.append(df_ff, ignore_index=True)\n",
    "    compl_pt = compl_pt.append(df_pt, ignore_index=True)\n",
    "\n",
    "sns.factorplot(x='nw', y='s', data=compl_ff, col='N')\n",
    "sns.factorplot(x='nw', y='scalab', data=compl_ff, col='N')\n",
    "sns.factorplot(x='nw', y='eff', data=compl_ff, col='N')"
   ]
  },
  {
   "cell_type": "code",
   "execution_count": null,
   "metadata": {
    "collapsed": true
   },
   "outputs": [],
   "source": []
  }
 ],
 "metadata": {
  "kernelspec": {
   "display_name": "Python 3",
   "language": "python",
   "name": "python3"
  },
  "language_info": {
   "codemirror_mode": {
    "name": "ipython",
    "version": 3
   },
   "file_extension": ".py",
   "mimetype": "text/x-python",
   "name": "python",
   "nbconvert_exporter": "python",
   "pygments_lexer": "ipython3",
   "version": "3.6.0"
  }
 },
 "nbformat": 4,
 "nbformat_minor": 2
}
